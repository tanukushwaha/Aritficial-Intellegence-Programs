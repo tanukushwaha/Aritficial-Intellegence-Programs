{
  "nbformat": 4,
  "nbformat_minor": 0,
  "metadata": {
    "colab": {
      "name": "Untitled7.ipynb",
      "version": "0.3.2",
      "provenance": [],
      "include_colab_link": true
    },
    "kernelspec": {
      "name": "python3",
      "display_name": "Python 3"
    }
  },
  "cells": [
    {
      "cell_type": "markdown",
      "metadata": {
        "id": "view-in-github",
        "colab_type": "text"
      },
      "source": [
        "<a href=\"https://colab.research.google.com/github/tanukushwaha/Aritficial-Intellegence-Programs/blob/master/Untitled7.ipynb\" target=\"_parent\"><img src=\"https://colab.research.google.com/assets/colab-badge.svg\" alt=\"Open In Colab\"/></a>"
      ]
    },
    {
      "cell_type": "code",
      "metadata": {
        "id": "sNxRA5FKjMjb",
        "colab_type": "code",
        "colab": {
          "base_uri": "https://localhost:8080/",
          "height": 51
        },
        "outputId": "f7486e33-36f4-496a-b795-f1782e8dd2f1"
      },
      "source": [
        "# Python3 Program to print BFS traversal \n",
        "# from a given source vertex. BFS(int s) \n",
        "# traverses vertices reachable from s. \n",
        "from collections import defaultdict \n",
        "  \n",
        "# This class represents a directed graph \n",
        "# using adjacency list representation \n",
        "class Graph: \n",
        "  \n",
        "    # Constructor \n",
        "    def __init__(self): \n",
        "  \n",
        "        # default dictionary to store graph \n",
        "        self.graph = defaultdict(list) \n",
        "  \n",
        "    # function to add an edge to graph \n",
        "    def addEdge(self,u,v): \n",
        "        self.graph[u].append(v) \n",
        "  \n",
        "    # Function to print a BFS of graph \n",
        "    def BFS(self, s): \n",
        "  \n",
        "        # Mark all the vertices as not visited \n",
        "        visited = [False] * (len(self.graph)) \n",
        "  \n",
        "        # Create a queue for BFS \n",
        "        queue = [] \n",
        "  \n",
        "        # Mark the source node as  \n",
        "        # visited and enqueue it \n",
        "        queue.append(s) \n",
        "        visited[s] = True\n",
        "  \n",
        "        while queue: \n",
        "  \n",
        "            # Dequeue a vertex from  \n",
        "            # queue and print it \n",
        "            s = queue.pop(0) \n",
        "            print (s, end = \" \") \n",
        "  \n",
        "            # Get all adjacent vertices of the \n",
        "            # dequeued vertex s. If a adjacent \n",
        "            # has not been visited, then mark it \n",
        "            # visited and enqueue it \n",
        "            for i in self.graph[s]: \n",
        "                if visited[i] == False: \n",
        "                    queue.append(i) \n",
        "                    visited[i] = True\n",
        "  \n",
        "# Driver code \n",
        "  \n",
        "# Create a graph given in \n",
        "# the above diagram \n",
        "g = Graph() \n",
        "g.addEdge(0, 1) \n",
        "g.addEdge(0, 2) \n",
        "g.addEdge(1, 2) \n",
        "g.addEdge(2, 0) \n",
        "g.addEdge(2, 3) \n",
        "g.addEdge(3, 3) \n",
        "  \n",
        "print (\"Following is Breadth First Traversal\"\n",
        "                  \" (starting from vertex 2)\") \n",
        "g.BFS(2) \n",
        "  "
      ],
      "execution_count": 2,
      "outputs": [
        {
          "output_type": "stream",
          "text": [
            "Following is Breadth First Traversal (starting from vertex 2)\n",
            "2 0 3 1 "
          ],
          "name": "stdout"
        }
      ]
    }
  ]
}