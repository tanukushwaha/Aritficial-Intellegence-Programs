{
  "nbformat": 4,
  "nbformat_minor": 0,
  "metadata": {
    "colab": {
      "name": "Untitled22.ipynb",
      "version": "0.3.2",
      "provenance": [],
      "include_colab_link": true
    },
    "kernelspec": {
      "name": "python3",
      "display_name": "Python 3"
    }
  },
  "cells": [
    {
      "cell_type": "markdown",
      "metadata": {
        "id": "view-in-github",
        "colab_type": "text"
      },
      "source": [
        "<a href=\"https://colab.research.google.com/github/tanukushwaha/Aritficial-Intellegence-Programs/blob/master/Untitled22.ipynb\" target=\"_parent\"><img src=\"https://colab.research.google.com/assets/colab-badge.svg\" alt=\"Open In Colab\"/></a>"
      ]
    },
    {
      "cell_type": "code",
      "metadata": {
        "id": "pf6wLNJ0uD5Z",
        "colab_type": "code",
        "colab": {
          "base_uri": "https://localhost:8080/",
          "height": 68
        },
        "outputId": "378fcd56-d11b-4ea7-9c88-2c34d23089d6"
      },
      "source": [
        "#Implement BFS\n",
        "\n",
        "#defining array \n",
        "visited=[]\n",
        "\n",
        "#import the collection\n",
        "import collections\n",
        "\n",
        "#visiting the nodes using breadth first search algorithm\n",
        "def bfs(graph,root):\n",
        "    visited,queue=set(),collections.deque([root])\n",
        "    visited.add(root)\n",
        "    while queue:\n",
        "        vertex=queue.popleft()\n",
        "        for neighbour in graph[vertex]:\n",
        "            if neighbour not in visited:\n",
        "                visited.add(neighbour)\n",
        "                print(visited)\n",
        "                queue.append(neighbour)\n",
        "                \n",
        "#main \n",
        "if __name__=='__main__':\n",
        "    graph={0:[1,2],1:[2],2:[3],3:[1,2]}\n",
        "    bfs(graph,0)\n"
      ],
      "execution_count": 1,
      "outputs": [
        {
          "output_type": "stream",
          "text": [
            "{0, 1}\n",
            "{0, 1, 2}\n",
            "{0, 1, 2, 3}\n"
          ],
          "name": "stdout"
        }
      ]
    }
  ]
}