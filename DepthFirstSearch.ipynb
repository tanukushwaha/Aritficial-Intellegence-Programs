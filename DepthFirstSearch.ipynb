{
  "nbformat": 4,
  "nbformat_minor": 0,
  "metadata": {
    "colab": {
      "name": "Untitled6.ipynb",
      "version": "0.3.2",
      "provenance": [],
      "include_colab_link": true
    },
    "kernelspec": {
      "name": "python3",
      "display_name": "Python 3"
    }
  },
  "cells": [
    {
      "cell_type": "markdown",
      "metadata": {
        "id": "view-in-github",
        "colab_type": "text"
      },
      "source": [
        "<a href=\"https://colab.research.google.com/github/tanukushwaha/Aritficial-Intellegence-Programs/blob/master/Untitled6.ipynb\" target=\"_parent\"><img src=\"https://colab.research.google.com/assets/colab-badge.svg\" alt=\"Open In Colab\"/></a>"
      ]
    },
    {
      "cell_type": "code",
      "metadata": {
        "id": "EexAA6XAiJi8",
        "colab_type": "code",
        "colab": {
          "base_uri": "https://localhost:8080/",
          "height": 102
        },
        "outputId": "56272fe9-a5b6-4c82-f412-9d4c00b99b44"
      },
      "source": [
        "# Python program to print DFS traversal from a \n",
        "# given given graph \n",
        "from collections import defaultdict \n",
        "  \n",
        "# This class represents a directed graph using \n",
        "# adjacency list representation \n",
        "class Graph: \n",
        "  \n",
        "    # Constructor \n",
        "    def __init__(self): \n",
        "  \n",
        "        # default dictionary to store graph \n",
        "        self.graph = defaultdict(list) \n",
        "  \n",
        "    # function to add an edge to graph \n",
        "    def addEdge(self,u,v): \n",
        "        self.graph[u].append(v) \n",
        "  \n",
        "    # A function used by DFS \n",
        "    def DFSUtil(self,v,visited): \n",
        "  \n",
        "        # Mark the current node as visited and print it \n",
        "        visited[v]= True\n",
        "        print (v)\n",
        "  \n",
        "        # Recur for all the vertices adjacent to this vertex \n",
        "        for i in self.graph[v]: \n",
        "            if visited[i] == False: \n",
        "                self.DFSUtil(i, visited) \n",
        "  \n",
        "  \n",
        "    # The function to do DFS traversal. It uses \n",
        "    # recursive DFSUtil() \n",
        "    def DFS(self,v): \n",
        "  \n",
        "        # Mark all the vertices as not visited \n",
        "        visited = [False]*(len(self.graph)) \n",
        "  \n",
        "        # Call the recursive helper function to print \n",
        "        # DFS traversal \n",
        "        self.DFSUtil(v,visited) \n",
        "  \n",
        "  \n",
        "# Driver code \n",
        "# Create a graph given in the above diagram \n",
        "g = Graph() \n",
        "g.addEdge(0, 1) \n",
        "g.addEdge(0, 2) \n",
        "g.addEdge(1, 2) \n",
        "g.addEdge(2, 0) \n",
        "g.addEdge(2, 3) \n",
        "g.addEdge(3, 3) \n",
        "  \n",
        "print (\"Following is DFS from (starting from vertex 2)\")\n",
        "g.DFS(2) \n",
        "  \n",
        "\n"
      ],
      "execution_count": 4,
      "outputs": [
        {
          "output_type": "stream",
          "text": [
            "Following is DFS from (starting from vertex 2)\n",
            "2\n",
            "0\n",
            "1\n",
            "3\n"
          ],
          "name": "stdout"
        }
      ]
    }
  ]
}
