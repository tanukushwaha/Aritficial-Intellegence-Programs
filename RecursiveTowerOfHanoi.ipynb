{
  "nbformat": 4,
  "nbformat_minor": 0,
  "metadata": {
    "colab": {
      "name": "Untitled11.ipynb",
      "version": "0.3.2",
      "provenance": [],
      "include_colab_link": true
    },
    "kernelspec": {
      "name": "python3",
      "display_name": "Python 3"
    }
  },
  "cells": [
    {
      "cell_type": "markdown",
      "metadata": {
        "id": "view-in-github",
        "colab_type": "text"
      },
      "source": [
        "<a href=\"https://colab.research.google.com/github/tanukushwaha/Aritficial-Intellegence-Programs/blob/master/RecursiveTowerOfHanoi.ipynb\" target=\"_parent\"><img src=\"https://colab.research.google.com/assets/colab-badge.svg\" alt=\"Open In Colab\"/></a>"
      ]
    },
    {
      "cell_type": "code",
      "metadata": {
        "id": "YLaY_bTUK4SQ",
        "colab_type": "code",
        "colab": {
          "base_uri": "https://localhost:8080/",
          "height": 272
        },
        "outputId": "fed886e4-64fd-4907-f911-8338a6f6d66f"
      },
      "source": [
        "# Recursive Python function to solve tower of hanoi \n",
        "\n",
        "def TowerOfHanoi(n , from_rod, to_rod, aux_rod): \n",
        "\tif n == 1: \n",
        "\t\tprint(\"Move disk 1 from rod\",from_rod,\"to rod\",to_rod) \n",
        "\t\treturn\n",
        "\tTowerOfHanoi(n-1, from_rod, aux_rod, to_rod) \n",
        "\tprint(\"Move disk\",n,\"from rod\",from_rod,\"to rod\",to_rod )\n",
        "\tTowerOfHanoi(n-1, aux_rod, to_rod, from_rod) \n",
        "\t\t\n",
        "# Driver code \n",
        "n = 4\n",
        "TowerOfHanoi(n, 'A', 'C', 'B') \n",
        "# A, C, B are names of the rods.\n"
      ],
      "execution_count": 4,
      "outputs": [
        {
          "output_type": "stream",
          "text": [
            "Move disk 1 from rod A to rod B\n",
            "Move disk 2 from rod A to rod C\n",
            "Move disk 1 from rod B to rod C\n",
            "Move disk 3 from rod A to rod B\n",
            "Move disk 1 from rod C to rod A\n",
            "Move disk 2 from rod C to rod B\n",
            "Move disk 1 from rod A to rod B\n",
            "Move disk 4 from rod A to rod C\n",
            "Move disk 1 from rod B to rod C\n",
            "Move disk 2 from rod B to rod A\n",
            "Move disk 1 from rod C to rod A\n",
            "Move disk 3 from rod B to rod C\n",
            "Move disk 1 from rod A to rod B\n",
            "Move disk 2 from rod A to rod C\n",
            "Move disk 1 from rod B to rod C\n"
          ],
          "name": "stdout"
        }
      ]
    }
  ]
}