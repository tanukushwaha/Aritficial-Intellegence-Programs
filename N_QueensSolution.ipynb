{
  "nbformat": 4,
  "nbformat_minor": 0,
  "metadata": {
    "colab": {
      "name": "Untitled10.ipynb",
      "version": "0.3.2",
      "provenance": [],
      "include_colab_link": true
    },
    "kernelspec": {
      "name": "python3",
      "display_name": "Python 3"
    }
  },
  "cells": [
    {
      "cell_type": "markdown",
      "metadata": {
        "id": "view-in-github",
        "colab_type": "text"
      },
      "source": [
        "<a href=\"https://colab.research.google.com/github/tanukushwaha/Aritficial-Intellegence-Programs/blob/master/N_QueensSolution.ipynb\" target=\"_parent\"><img src=\"https://colab.research.google.com/assets/colab-badge.svg\" alt=\"Open In Colab\"/></a>"
      ]
    },
    {
      "cell_type": "code",
      "metadata": {
        "id": "Or3BLfaIJLr4",
        "colab_type": "code",
        "colab": {
          "base_uri": "https://localhost:8080/",
          "height": 306
        },
        "outputId": "fcc58be8-3ae9-485d-e4ca-947d1409fe2a"
      },
      "source": [
        "# Python program to solve N Queen \n",
        "# Problem using backtracking \n",
        "\n",
        "global N \n",
        "N = 4\n",
        "\n",
        "def printSolution(board): \n",
        "\tfor i in range(N): \n",
        "\t\tfor j in range(N): \n",
        "\t\t\tprint (board[i][j]) \n",
        "\t\tprint\n",
        "\n",
        "\n",
        "# A utility function to check if a queen can \n",
        "# be placed on board[row][col]. Note that this \n",
        "# function is called when \"col\" queens are \n",
        "# already placed in columns from 0 to col -1. \n",
        "# So we need to check only left side for \n",
        "# attacking queens \n",
        "def isSafe(board, row, col): \n",
        "\n",
        "\t# Check this row on left side \n",
        "\tfor i in range(col): \n",
        "\t\tif board[row][i] == 1: \n",
        "\t\t\treturn False\n",
        "\n",
        "\t# Check upper diagonal on left side \n",
        "\tfor i, j in zip(range(row, -1, -1), range(col, -1, -1)): \n",
        "\t\tif board[i][j] == 1: \n",
        "\t\t\treturn False\n",
        "\n",
        "\t# Check lower diagonal on left side \n",
        "\tfor i, j in zip(range(row, N, 1), range(col, -1, -1)): \n",
        "\t\tif board[i][j] == 1: \n",
        "\t\t\treturn False\n",
        "\n",
        "\treturn True\n",
        "\n",
        "def solveNQUtil(board, col): \n",
        "\t# base case: If all queens are placed \n",
        "\t# then return true \n",
        "\tif col >= N: \n",
        "\t\treturn True\n",
        "\n",
        "\t# Consider this column and try placing \n",
        "\t# this queen in all rows one by one \n",
        "\tfor i in range(N): \n",
        "\n",
        "\t\tif isSafe(board, i, col): \n",
        "\t\t\t# Place this queen in board[i][col] \n",
        "\t\t\tboard[i][col] = 1\n",
        "\n",
        "\t\t\t# recur to place rest of the queens \n",
        "\t\t\tif solveNQUtil(board, col + 1) == True: \n",
        "\t\t\t\treturn True\n",
        "\n",
        "\t\t\t# If placing queen in board[i][col \n",
        "\t\t\t# doesn't lead to a solution, then \n",
        "\t\t\t# queen from board[i][col] \n",
        "\t\t\tboard[i][col] = 0\n",
        "\n",
        "\t# if the queen can not be placed in any row in \n",
        "\t# this colum col then return false \n",
        "\treturn False\n",
        "\n",
        "# This function solves the N Queen problem using \n",
        "# Backtracking. It mainly uses solveNQUtil() to \n",
        "# solve the problem. It returns false if queens \n",
        "# cannot be placed, otherwise return true and \n",
        "# placement of queens in the form of 1s. \n",
        "# note that there may be more than one \n",
        "# solutions, this function prints one of the \n",
        "# feasible solutions. \n",
        "def solveNQ(): \n",
        "\tboard = [ [0, 0, 0, 0], \n",
        "\t\t\t[0, 0, 0, 0], \n",
        "\t\t\t[0, 0, 0, 0], \n",
        "\t\t\t[0, 0, 0, 0] \n",
        "\t\t\t] \n",
        "\n",
        "\tif solveNQUtil(board, 0) == False: \n",
        "\t\tprint(\"Solution does not exist\")\n",
        "\t\treturn False\n",
        "\n",
        "\tprintSolution(board) \n",
        "\treturn True\n",
        "\n",
        "# driver program to test above function \n",
        "solveNQ() \n",
        "\n",
        "# This code is contributed by Divyanshu Mehta \n"
      ],
      "execution_count": 3,
      "outputs": [
        {
          "output_type": "stream",
          "text": [
            "0\n",
            "0\n",
            "1\n",
            "0\n",
            "1\n",
            "0\n",
            "0\n",
            "0\n",
            "0\n",
            "0\n",
            "0\n",
            "1\n",
            "0\n",
            "1\n",
            "0\n",
            "0\n"
          ],
          "name": "stdout"
        },
        {
          "output_type": "execute_result",
          "data": {
            "text/plain": [
              "True"
            ]
          },
          "metadata": {
            "tags": []
          },
          "execution_count": 3
        }
      ]
    }
  ]
}